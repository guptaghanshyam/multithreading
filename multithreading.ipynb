{
 "cells": [
  {
   "cell_type": "markdown",
   "metadata": {},
   "source": [
    "Q1). hat is multithreading in python? hy is it used? Name the module used to handle threads in python"
   ]
  },
  {
   "cell_type": "markdown",
   "metadata": {},
   "source": [
    "Ans:Multithreading in Python refers to the ability of a program to execute multiple threads concurrently within the same process. A thread is the smallest unit of execution within a process, and multithreading allows multiple threads to share the same resources (like memory space) and run concurrently, enabling better performance and responsiveness in certain scenarios.\n",
    "\n",
    "Python's multithreading is particularly useful in situations where the program needs to perform tasks concurrently without waiting for one task to finish before starting the next. This is especially beneficial for I/O-bound tasks (such as reading/writing files, network operations, or web scraping) where the program spends a lot of time waiting for data to be fetched, written, or processed. By using threads, you can make use of this idle time efficiently and improve the overall performance of your application.\n",
    "\n",
    "The module used to handle threads in Python is called \"threading.\" The \"threading\" module provides the necessary classes and methods to work with threads in Python. It allows you to create, start, stop, and synchronize threads, as well as manage thread-specific data.\n",
    "\n",
    "\n"
   ]
  },
  {
   "cell_type": "code",
   "execution_count": 1,
   "metadata": {},
   "outputs": [
    {
     "name": "stdout",
     "output_type": "stream",
     "text": [
      "1\n",
      "2\n",
      "3\n",
      "4\n",
      "5\n",
      "A\n",
      "B\n",
      "C\n",
      "D\n",
      "E\n",
      "both threads have finished.\n"
     ]
    }
   ],
   "source": [
    "import threading\n",
    "def print_numbers():\n",
    "    for i in range(1,6):\n",
    "        print(i)\n",
    "\n",
    "def print_letter():\n",
    "    for letter in 'ABCDE':\n",
    "\n",
    "        print(letter)\n",
    "\n",
    "thread1 =threading.Thread(target=print_numbers)\n",
    "thread2=threading.Thread(target=print_letter)\n",
    "\n",
    "thread1.start()\n",
    "thread2.start()\n",
    "\n",
    "thread1.join()\n",
    "thread2.join()\n",
    "\n",
    "print(\"both threads have finished.\")\n",
    "\n"
   ]
  },
  {
   "cell_type": "markdown",
   "metadata": {},
   "source": [
    "2). hy threading module used? rite the use of the following functions\n",
    "\n",
    "1.activeCount()\n",
    "\n",
    "2.currentThread()\n",
    "\n",
    "3.enumerate()"
   ]
  },
  {
   "cell_type": "markdown",
   "metadata": {},
   "source": [
    "Ans:\n",
    "The threading module in Python is used to work with threads, allowing you to create and manage threads within your Python programs. It is primarily used when you need to perform multiple tasks concurrently or asynchronously without blocking the main thread.\n",
    "\n",
    "1.activeCount():This function is used to return the number of currently active Thread objects in the program. An active thread is a thread that has been created but has not yet been terminated. It can be useful for monitoring the number of threads running in your application.\n"
   ]
  },
  {
   "cell_type": "code",
   "execution_count": 2,
   "metadata": {},
   "outputs": [
    {
     "name": "stdout",
     "output_type": "stream",
     "text": [
      "Thread is executing...\n",
      "Thread is executing...\n",
      "Thread is executing...\n",
      "Thread is executing...\n",
      "Thread is executing...\n",
      "number of active threads: 6\n"
     ]
    }
   ],
   "source": [
    "import threading\n",
    "def my_function():\n",
    "    print(\"Thread is executing...\")\n",
    "\n",
    "threads =[]\n",
    "for i in range(5):\n",
    "    t=threading.Thread(target=my_function)\n",
    "    t.start()\n",
    "    threads.append(t)\n",
    "\n",
    "num_active_threads = threading.active_count()\n",
    "print(\"number of active threads:\" , num_active_threads)"
   ]
  },
  {
   "cell_type": "markdown",
   "metadata": {},
   "source": [
    "2.currentThread(): This function is used to return the current Thread object corresponding to the thread from which it is called. It allows you to access information and perform operations on the current thread"
   ]
  },
  {
   "cell_type": "code",
   "execution_count": 5,
   "metadata": {},
   "outputs": [
    {
     "name": "stdout",
     "output_type": "stream",
     "text": [
      "thread is executing...\n",
      "thread is executing...\n",
      "thread is executing...\n",
      "thread is executing...\n",
      "thread is executing...\n",
      "number of active threads: 6\n"
     ]
    }
   ],
   "source": [
    "import threading\n",
    "\n",
    "def my_function():\n",
    "    print(\"thread is executing...\")\n",
    "\n",
    "threads=[]\n",
    "for i in range(5):\n",
    "    t=threading.Thread(target=my_function)\n",
    "    t.start()\n",
    "    threads.append(t)\n",
    "\n",
    "num_active_threads=threading.active_count()\n",
    "print(\"number of active threads:\",num_active_threads)"
   ]
  },
  {
   "cell_type": "markdown",
   "metadata": {},
   "source": [
    "3.enumerate(): This function is used to return a list of all Thread objects currently alive. It is useful when you want to access and inspect all the running threads."
   ]
  },
  {
   "cell_type": "code",
   "execution_count": 6,
   "metadata": {},
   "outputs": [
    {
     "name": "stdout",
     "output_type": "stream",
     "text": [
      "Thread is executing...\n",
      "Thread is executing...\n",
      "Thread is executing...\n",
      "Alive threads:\n",
      "MainThread\n",
      "IOPub\n",
      "Heartbeat\n",
      "Control\n",
      "IPythonHistorySavingThread\n",
      "Thread-4\n"
     ]
    },
    {
     "name": "stderr",
     "output_type": "stream",
     "text": [
      "C:\\Users\\KISHAN\\AppData\\Local\\Temp\\ipykernel_10580\\3936597151.py:16: DeprecationWarning: getName() is deprecated, get the name attribute instead\n",
      "  print(thread.getName())\n"
     ]
    }
   ],
   "source": [
    "import threading\n",
    "\n",
    "def my_function():\n",
    "    print(\"Thread is executing...\")\n",
    "\n",
    "threads = []\n",
    "for i in range(3):\n",
    "    t = threading.Thread(target=my_function)\n",
    "    t.start()\n",
    "    threads.append(t)\n",
    "\n",
    "all_threads = threading.enumerate()\n",
    "\n",
    "print(\"Alive threads:\")\n",
    "for thread in all_threads:\n",
    "    print(thread.getName())\n"
   ]
  },
  {
   "cell_type": "markdown",
   "metadata": {},
   "source": [
    "4. rite a python program to create two threads. Thread one must print the list of squares and thread\n",
    "two must print the list of cubes"
   ]
  },
  {
   "cell_type": "code",
   "execution_count": 15,
   "metadata": {},
   "outputs": [
    {
     "name": "stdout",
     "output_type": "stream",
     "text": [
      "list of squares : [1, 4, 9, 16, 25]\n",
      "list of cubes: [1, 8, 27, 64, 125]\n",
      "both the threads have finished\n"
     ]
    }
   ],
   "source": [
    "import threading\n",
    "\n",
    "def print_squares(numbers):\n",
    "    squares=[num * num  for num in numbers]\n",
    "    print(\"list of squares :\",squares)\n",
    "\n",
    "def print_cubes(number):\n",
    "    cubes=[num *num *num for num in number]\n",
    "    print(\"list of cubes:\",cubes)\n",
    "\n",
    "numbers=[1,2,3,4,5]\n",
    "\n",
    "thread1=threading.Thread(target=print_squares,args=(numbers,))\n",
    "thread2=threading.Thread(target=print_cubes,args=(numbers,))\n",
    "\n",
    "thread1.start()\n",
    "thread2.start()\n",
    "\n",
    "thread1.join()\n",
    "thread2.join()\n",
    "\n",
    "print(\"both the threads have finished\")"
   ]
  },
  {
   "cell_type": "markdown",
   "metadata": {},
   "source": [
    "5. State advantages and disadvantages of multithreading"
   ]
  },
  {
   "cell_type": "markdown",
   "metadata": {},
   "source": [
    "Advantages of Multithreading:\n",
    "\n",
    "Improved Responsiveness: Multithreading allows a program to be more responsive since multiple tasks can be executed concurrently. This is especially beneficial for applications with graphical user interfaces (GUIs) or interactive elements, where the user expects smooth and quick responses.\n",
    "\n",
    "Efficient Resource Utilization: Multithreading enables better utilization of system resources, particularly in I/O-bound tasks. While one thread is waiting for I/O operations (e.g., reading from a file or making network requests), other threads can continue their work, making the best use of idle time.\n",
    "\n",
    "Faster Execution: In certain situations, multithreading can lead to faster execution of tasks, especially in scenarios where tasks can be parallelized. CPU-bound tasks can benefit from multiprocessing as well, which is a form of parallelism using multiple processes.\n",
    "\n",
    "Disadvantages of Multithreading:\n",
    "\n",
    "Complexity and Synchronization: Multithreading introduces complexity into the program, as multiple threads can access shared resources simultaneously. Ensuring proper synchronization and avoiding race conditions can be challenging and prone to bugs.\n",
    "\n",
    "Deadlocks and Race Conditions: Improper management of shared resources can lead to deadlocks (where threads are stuck waiting for each other) or race conditions (where the outcome depends on the relative timing of thread execution).\n",
    "\n",
    "Debugging Difficulty: Identifying and diagnosing issues in multithreaded programs can be more complex than in single-threaded ones. Race conditions and synchronization problems may only occur sporadically, making them hard to reproduce and debug."
   ]
  },
  {
   "cell_type": "markdown",
   "metadata": {},
   "source": [
    "6. Explain deadlocks and race conditions.\n"
   ]
  },
  {
   "cell_type": "markdown",
   "metadata": {},
   "source": [
    "Deadlock:\n",
    "A deadlock is a situation in which two or more threads (or processes) are unable to proceed with their execution because each thread is waiting for a resource that is held by another thread. In other words, each thread is blocked, waiting for something that will never be released, resulting in a deadlock.\n",
    "To better understand deadlocks, consider the classic example of the \"dining philosophers problem.\" In this problem, there are several philosophers sitting around a circular table, and each philosopher needs two forks to eat their meal. However, there are only as many forks as there are philosophers, and they can only pick up the forks on their left and right.\n",
    "\n",
    "\n",
    "Race Condition:\n",
    "A race condition occurs when the behavior of a program depends on the relative timing of events or operations. It arises when multiple threads (or processes) access and manipulate shared resources concurrently, and the final outcome depends on the order in which these operations are executed.\n",
    "Race conditions often lead to unpredictable or erroneous results because threads may interfere with each other's data access, causing corruption or inconsistency in shared resources."
   ]
  },
  {
   "cell_type": "markdown",
   "metadata": {},
   "source": []
  }
 ],
 "metadata": {
  "kernelspec": {
   "display_name": "base",
   "language": "python",
   "name": "python3"
  },
  "language_info": {
   "codemirror_mode": {
    "name": "ipython",
    "version": 3
   },
   "file_extension": ".py",
   "mimetype": "text/x-python",
   "name": "python",
   "nbconvert_exporter": "python",
   "pygments_lexer": "ipython3",
   "version": "3.10.9"
  },
  "orig_nbformat": 4
 },
 "nbformat": 4,
 "nbformat_minor": 2
}
